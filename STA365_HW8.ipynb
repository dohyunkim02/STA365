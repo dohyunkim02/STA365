{
 "cells": [
  {
   "cell_type": "markdown",
   "id": "5549da90",
   "metadata": {},
   "source": [
    "# Name: Dohyun Kim \n",
    "\n",
    "# Student number: 1007372843"
   ]
  },
  {
   "cell_type": "markdown",
   "id": "44c623e8",
   "metadata": {},
   "source": [
    "## Q1. Describe how the posterior predictive distribution is created for mixture models\n",
    "\n",
    "Answer: First, find posterior distribution $p(\\theta|x) = \\frac{p(x|\\theta)p(\\theta)}{p(x)}$ by using prior distributions and likelihood distribution. To find the full conditional distributions on priors, use MCMC (Gibbs sampler if discrete) on each prior. Then, sample $\\tilde x$ given by those $\\theta$'s. By using MCMC on $\\tilde x$, i.e. using samples' average of $\\tilde x$, construct the posterior predictive distribution for the mixture models. This is similar as mixing given distributions with certain weight."
   ]
  },
  {
   "cell_type": "markdown",
   "id": "273e542a",
   "metadata": {},
   "source": [
    "## Q2. Describe how the posterior predictive distribution is created in general\n",
    "\n",
    "Answer: The posterior predictive distribution is $p(\\tilde x | x) = \\int p(\\tilde x | \\theta) p(\\theta | x) d\\theta$. First, find posterior distribution $p(\\theta|x) = \\frac{p(x|\\theta)p(\\theta)}{p(x)}$ by using prior(s) and likelihood. Sample each prior ($\\theta$'s) by using MCMC sampling. Then, sample $\\tilde x$ given by those $\\theta$'s many times. By using MCMC on $\\tilde x$, i.e. using samples' average of $\\tilde x$, construct the posterior predictive distribution."
   ]
  },
  {
   "cell_type": "markdown",
   "id": "fcd3226d",
   "metadata": {},
   "source": [
    "## Q3.\n",
    "\n",
    "Answer: Missing data that are missing at random (MAR) does not significantly influence the inferences, thus can be ignored (removed). Missing data that are missing not at random (MNAR) can be handled by multiplying the data by latent variable, when the latent variable is 0 if the data should be missing, or 1 if the data should be included. The only case that needs to be considered is missing completely at random (MCAR) case. By using the method described in Q2, we can find the priors given the observed data and can sample new data given those priors. This will give us the posterior predictive distribution. By using the posterior predictive distribution and MCMC sampling, we can impute missing data points given observed data points and corresponding information on the missing data points."
   ]
  },
  {
   "cell_type": "code",
   "execution_count": null,
   "id": "55eb0f81",
   "metadata": {},
   "outputs": [],
   "source": []
  }
 ],
 "metadata": {
  "kernelspec": {
   "display_name": "Python 3 (ipykernel)",
   "language": "python",
   "name": "python3"
  },
  "language_info": {
   "codemirror_mode": {
    "name": "ipython",
    "version": 3
   },
   "file_extension": ".py",
   "mimetype": "text/x-python",
   "name": "python",
   "nbconvert_exporter": "python",
   "pygments_lexer": "ipython3",
   "version": "3.11.6"
  }
 },
 "nbformat": 4,
 "nbformat_minor": 5
}
